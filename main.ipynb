{
 "cells": [
  {
   "cell_type": "code",
   "execution_count": null,
   "metadata": {
    "pycharm": {
     "name": "#%%\n"
    }
   },
   "outputs": [],
   "source": [
    "!pip install -r requirements.txt"
   ]
  },
  {
   "cell_type": "code",
   "execution_count": null,
   "outputs": [],
   "source": [
    "import os\n",
    "from bingX import BingX\n",
    "import mplfinance as mpl\n",
    "import numpy as np\n",
    "import pandas as pd\n",
    "from datetime import datetime\n",
    "from scipy.signal import argrelextrema\n",
    "import matplotlib.pyplot as plt\n",
    "import pandas_ta as ta\n",
    "\n",
    "TRADE_INTERVALS = [\"1M\",\"1d\",\"4h\",\"1h\",\"30m\",\"15m\",\"5m\",\"3m\",\"1m\"]\n",
    "\n",
    "# Exchange\n",
    "API_KEY = os.environ.get(\"BINGX_API_KEY\",\"\")\n",
    "SECRET_KEY = os.environ.get(\"BINGX_SECRET_KEY\",\"\")\n",
    "bingx_client = BingX(API_KEY, SECRET_KEY)\n",
    "\n",
    "def get_data(symbol, interval, start, end):\n",
    "    start_time_ms = int(start.timestamp() * 1000)\n",
    "    end_time_ms = int(end.timestamp() * 1000)\n",
    "    data = bingx_client.perpetual_v2.market.get_k_line_data(symbol=symbol,interval=interval,start_time=start_time_ms,end_time=end_time_ms)\n",
    "    df = pd.DataFrame(data)\n",
    "    df.set_index('time', inplace=True)\n",
    "    df.index = pd.to_datetime(df.index, unit='ms')\n",
    "    df = df.astype(float)\n",
    "    return df\n",
    "\n",
    "\n",
    "def get_levels(date):\n",
    "    ratios = [-0.618, 0.618, 1.618] # SL - Entry - TP\n",
    "    series_ = df.loc[date:][1:2].squeeze()\n",
    "    diff = series_.high - series_.low\n",
    "    levels = [series_.close + i * diff for i in ratios]\n",
    "    return levels\n",
    "\n",
    "def get_median_values(lf):\n",
    "    n = 5\n",
    "    lf['median'] = np.abs(lf['high'] + lf['low']) / 2\n",
    "    lf['min'] = lf.iloc[argrelextrema(lf['median'].values, np.less_equal,\n",
    "                                      order=n)[0]]['median']\n",
    "    lf['max'] = lf.iloc[argrelextrema(lf['median'].values, np.greater_equal,\n",
    "                                      order=n)[0]]['median']\n",
    "    return lf\n",
    "\n",
    "# Date intervals to fetch data\n",
    "date = datetime(2022,1,1,0,0,0)\n",
    "date_end = datetime(2022,1,5,0,0,0)\n",
    "df = get_data(\"BTC-USDT\", \"1h\", date, date_end)\n",
    "lf = get_median_values(df)\n",
    "\n",
    "#lf = df.drop(columns=['volume','open','close'])\n",
    "#pdf = lf.drop(columns=['high','low'])\n",
    "plt.scatter(lf.index,lf['min'],c='r')\n",
    "plt.scatter(lf.index,lf['max'],c='g')\n",
    "plt.plot(lf.index,lf['median'])\n",
    "plt.show()"
   ],
   "metadata": {
    "collapsed": false,
    "pycharm": {
     "name": "#%%\n"
    }
   }
  },
  {
   "cell_type": "code",
   "execution_count": null,
   "outputs": [],
   "source": [
    "# Fibo back testing (WIP) - Still checking if this make sense.\n",
    "buys,sells = [],[]\n",
    "trade_dates = []\n",
    "in_position = False\n",
    "df['price'] = df.open.shift(-1)\n",
    "days_range = np.unique(df.index.date)\n",
    "for date in days_range:\n",
    "    for index, row in df[date:][2:].iterrows():\n",
    "        if not in_position:\n",
    "            sl,entry,tp = get_levels(date)\n",
    "            if row.close >= entry:\n",
    "                df.at[index, 'buy'] = row.price\n",
    "                buys.append(row.price)\n",
    "                trade_dates.append(date)\n",
    "                in_position = True\n",
    "        if in_position:\n",
    "            if row.close >= tp or row.close <= sl:\n",
    "                df.at[index, 'sell'] = row.price\n",
    "                sells.append(row.price)\n",
    "                in_position = False\n",
    "\n",
    "trades = pd.DataFrame([buys,sells])\n",
    "trades.columns = trade_dates\n",
    "trades.index = ['Buy','Sell']\n",
    "trades = trades.T\n"
   ],
   "metadata": {
    "collapsed": false,
    "pycharm": {
     "name": "#%%\n"
    }
   }
  },
  {
   "cell_type": "code",
   "execution_count": null,
   "outputs": [],
   "source": [
    "def fibonacci_levels(max_val, min_val):\n",
    "    ratios = [-0.618, 0.618, 1.618] # SL - Entry - TP\n",
    "    diff = max_val - min_val\n",
    "    levels = [max_val - i * diff for i in ratios]\n",
    "    return levels"
   ],
   "metadata": {
    "collapsed": false,
    "pycharm": {
     "name": "#%%\n"
    }
   }
  },
  {
   "cell_type": "code",
   "execution_count": null,
   "outputs": [],
   "source": [
    "filtered_df = lf[lf['min'].notnull() | lf['max'].notnull()]\n",
    "filtered_df"
   ],
   "metadata": {
    "collapsed": false,
    "pycharm": {
     "name": "#%%\n"
    }
   }
  },
  {
   "cell_type": "code",
   "execution_count": null,
   "outputs": [],
   "source": [
    "idx = 0\n",
    "min_max_vals = []\n",
    "min_max_type = {0:[],1:[]}\n",
    "print(filtered_df)\n",
    "while(idx < len(filtered_df)):\n",
    "    row = filtered_df.iloc[idx]\n",
    "    if not pd.isna(row['min']):\n",
    "        print(\"Min: \" + str(row['min']))\n",
    "        min_max_vals.append(row['min'])\n",
    "        min_max_type[0].append(row['min'])\n",
    "    if not pd.isna(row['max']):\n",
    "        print(\"Max: \" + str(row['max']))\n",
    "        min_max_vals.append(row['max'])\n",
    "        min_max_type[1].append(row['max'])\n",
    "    idx = idx + 1"
   ],
   "metadata": {
    "collapsed": false,
    "pycharm": {
     "name": "#%%\n"
    }
   }
  }
 ],
 "metadata": {
  "kernelspec": {
   "display_name": "Python 3",
   "language": "python",
   "name": "python3"
  },
  "language_info": {
   "name": "python",
   "version": "3.10.12"
  }
 },
 "nbformat": 4,
 "nbformat_minor": 2
}