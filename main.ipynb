{
 "cells": [
  {
   "cell_type": "code",
   "execution_count": null,
   "metadata": {},
   "outputs": [],
   "source": [
    "!pip install -r requirements.txt"
   ]
  },
  {
   "cell_type": "code",
   "execution_count": null,
   "metadata": {},
   "outputs": [],
   "source": [
    "import os\n",
    "from bingX import BingX\n",
    "import mplfinance as mpl\n",
    "import numpy as np\n",
    "import pandas as pd\n",
    "from datetime import datetime\n",
    "from scipy.signal import argrelextrema\n",
    "import matplotlib.pyplot as plt\n",
    "\n",
    "api_key = os.environ.get(\"BINGX_API_KEY\",\"\")\n",
    "secret_key = os.environ.get(\"BINGX_SECRET_KEY\",\"\")\n",
    "\n",
    "\n",
    "bingx_client = BingX(api_key, secret_key)\n",
    "\n",
    "\n",
    "\n",
    "date = datetime(2024,3,31,12,0,0)\n",
    "date_end = datetime(2024,4,2,12,0,0)\n",
    "\n",
    "fecha = int(date.timestamp() * 1000)\n",
    "fecha_end = int(date_end.timestamp() * 1000)\n",
    "\n",
    "intervals = [\"1M\",\"1d\",\"4h\",\"1h\",\"30m\",\"15m\",\"5m\",\"3m\",\"1m\"]\n",
    "data =[bingx_client.perpetual_v2.market.get_k_line_data(symbol=\"BTC-USDT\",interval=interval,start_time=fecha,end_time=fecha_end) for interval in intervals ]\n",
    "\n",
    "df = pd.DataFrame(data[3])\n",
    "df['time'] = pd.to_datetime(df['time'],unit='ms')\n",
    "df = df.astype({'open':'float'})\n",
    "df = df.astype({'close':'float'})\n",
    "df = df.astype({'high':'float'})\n",
    "df = df.astype({'low':'float'})\n",
    "df= df.astype({'volume':'float'})\n",
    "\n",
    "df = df.set_index('time',inplace=False)"
   ]
  },
  {
   "cell_type": "code",
   "execution_count": null,
   "metadata": {},
   "outputs": [],
   "source": [
    "lf = df.drop(columns=['volume','open','close'])\n",
    "lf['median'] = np.abs(lf['high'] + lf['low']) / 2 \n",
    "pdf = lf.drop(columns=['high','low'])\n",
    "n = 5\n",
    "lf['min'] = lf.iloc[argrelextrema(lf['median'].values, np.less_equal,\n",
    "                    order=n)[0]]['median']\n",
    "lf['max'] = lf.iloc[argrelextrema(lf['median'].values, np.greater_equal,\n",
    "                    order=n)[0]]['median']\n",
    "\n",
    "plt.scatter(lf.index,lf['min'],c='r')\n",
    "plt.scatter(lf.index,lf['max'],c='g')\n",
    "plt.plot(lf.index,lf['median'])\n",
    "plt.show()"
   ]
  },
  {
   "cell_type": "code",
   "execution_count": null,
   "outputs": [],
   "source": [
    "import os\n",
    "from bingX import BingX\n",
    "import mplfinance as mpl\n",
    "import numpy as np\n",
    "import pandas as pd\n",
    "from datetime import datetime\n",
    "from scipy.signal import argrelextrema\n",
    "import matplotlib.pyplot as plt\n",
    "import pandas_ta as ta\n",
    "\n",
    "TRADE_INTERVALS = [\"1M\",\"1d\",\"4h\",\"1h\",\"30m\",\"15m\",\"5m\",\"3m\",\"1m\"]\n",
    "\n",
    "# Exchange\n",
    "API_KEY = os.environ.get(\"BINGX_API_KEY\",\"\")\n",
    "SECRET_KEY = os.environ.get(\"BINGX_SECRET_KEY\",\"\")\n",
    "bingx_client = BingX(API_KEY, SECRET_KEY)\n",
    "\n",
    "def get_data(symbol, interval, start, end):\n",
    "    start_time_ms = int(start.timestamp() * 1000)\n",
    "    end_time_ms = int(end.timestamp() * 1000)\n",
    "    data = bingx_client.perpetual_v2.market.get_k_line_data(symbol=symbol,interval=interval,start_time=start_time_ms,end_time=end_time_ms)\n",
    "    df = pd.DataFrame(data)\n",
    "    df.set_index('time', inplace=True)\n",
    "    df.index = pd.to_datetime(df.index, unit='ms')\n",
    "    df = df.astype(float)\n",
    "    return df\n",
    "\n",
    "def get_levels(date):\n",
    "    ratios_ = [-0.618, 0.618, 1.618] # SL - Entry - TP\n",
    "    series = df.loc[date:][1:2].squeeze()\n",
    "    diff_ = series.high - series.low\n",
    "    levels_ = [i * diff_ + series.close for i in ratios_]\n",
    "    return levels_\n",
    "\n",
    "# Date intervals to fetch data\n",
    "date = datetime(2023,1,1,0,0,0)\n",
    "date_end = datetime(2023,1,15,0,0,0)\n",
    "df = get_data(\"BTC-USDT\", \"1h\", date, date_end)\n",
    "get_levels(datetime(2023,1,4,0,0,0))"
   ],
   "metadata": {
    "collapsed": false,
    "pycharm": {
     "name": "#%%\n"
    }
   }
  },
  {
   "cell_type": "code",
   "execution_count": null,
   "outputs": [],
   "source": [
    "sl,entry,tp = get_levels(datetime(2023,1,1,0,0,0))\n",
    "day_one = df.loc[date:][:25]\n",
    "day_one['price'] = day_one.open.shift(-1)\n",
    "day_one"
   ],
   "metadata": {
    "collapsed": false,
    "pycharm": {
     "name": "#%%\n"
    }
   }
  },
  {
   "cell_type": "code",
   "execution_count": null,
   "outputs": [],
   "source": [
    "in_position = False\n",
    "for index,row in day_one.iterrows():\n",
    "    if not in_position and row.close >= entry:\n",
    "        print(row.price)\n",
    "        in_position = True\n",
    "    if in_position:\n",
    "        if row.close >= tp or row.close <= sl:\n",
    "            print(row.price)\n",
    "            in_position = False\n",
    "            break"
   ],
   "metadata": {
    "collapsed": false,
    "pycharm": {
     "name": "#%%\n"
    }
   }
  }
 ],
 "metadata": {
  "kernelspec": {
   "display_name": "Python 3",
   "language": "python",
   "name": "python3"
  },
  "language_info": {
   "name": "python",
   "version": "3.10.12"
  }
 },
 "nbformat": 4,
 "nbformat_minor": 2
}