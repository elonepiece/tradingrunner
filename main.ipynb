{
 "cells": [
  {
   "cell_type": "code",
   "execution_count": null,
   "metadata": {},
   "outputs": [],
   "source": [
    "pip install python-bingx matplotlib mplfinance pandas"
   ]
  },
  {
   "cell_type": "code",
   "execution_count": null,
   "metadata": {},
   "outputs": [],
   "source": [
    "import os\n",
    "from bingX import BingX\n",
    "import mplfinance as mpl\n",
    "import pandas as pd\n",
    "from datetime import datetime\n",
    "\n",
    "\n",
    "api_key = os.environ.get(\"BINGX_API_KEY\",\"\")\n",
    "secret_key = os.environ.get(\"BINGX_SECRET_KEY\",\"\")\n",
    "\n",
    "\n",
    "bingx_client = BingX(api_key, secret_key)\n",
    "\n",
    "\n",
    "\n",
    "date = datetime(2024,3,31,12,0,0)\n",
    "date_end = datetime(2024,4,2,12,0,0)\n",
    "\n",
    "fecha = int(date.timestamp() * 1000)\n",
    "fecha_end = int(date_end.timestamp() * 1000)\n",
    "\n",
    "print(fecha)\n",
    "intervals = [\"1M\",\"1d\",\"4h\",\"1h\",\"30m\",\"15m\",\"5m\"]\n",
    "data =[bingx_client.perpetual_v2.market.get_k_line_data(symbol=\"BTC-USDT\",interval=interval,start_time=fecha,end_time=fecha_end) for interval in intervals ]\n",
    "\n",
    "df = pd.DataFrame(data[2])\n",
    "df['time'] = pd.to_datetime(df['time'],unit='ms')\n",
    "df = df.astype({'open':'float'})\n",
    "df = df.astype({'close':'float'})\n",
    "df = df.astype({'high':'float'})\n",
    "df = df.astype({'low':'float'})\n",
    "df= df.astype({'volume':'float'})\n",
    "\n",
    "df = df.set_index('time',inplace=False)\n",
    "\n",
    "plot, ax = mpl.plot(df,type='candle',returnfig=True)\n",
    "ax[0].set_title(\"BTC-USDT - 4h\")"
   ]
  }
 ],
 "metadata": {
  "kernelspec": {
   "display_name": "Python 3",
   "language": "python",
   "name": "python3"
  },
  "language_info": {
   "name": "python",
   "version": "3.10.12"
  }
 },
 "nbformat": 4,
 "nbformat_minor": 2
}
