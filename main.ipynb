{
 "cells": [
  {
   "cell_type": "code",
   "execution_count": null,
   "metadata": {
    "pycharm": {
     "name": "#%%\n"
    }
   },
   "outputs": [],
   "source": [
    "!pip install -r requirements.txt"
   ]
  },
  {
   "cell_type": "code",
   "execution_count": null,
   "metadata": {
    "pycharm": {
     "name": "#%%\n"
    }
   },
   "outputs": [],
   "source": [
    "import os\n",
    "from bingX import BingX\n",
    "import mplfinance as mpl\n",
    "import numpy as np\n",
    "import pandas as pd\n",
    "from datetime import datetime\n",
    "from scipy.signal import argrelextrema\n",
    "import matplotlib.pyplot as plt\n",
    "# WIP: Pandas TA LIB\n",
    "import pandas_ta as ta\n",
    "\n",
    "TRADE_INTERVALS = [\"1M\",\"1d\",\"4h\",\"1h\",\"30m\",\"15m\",\"5m\",\"3m\",\"1m\"]\n",
    "API_KEY = os.environ.get(\"BINGX_API_KEY\",\"\")\n",
    "SECRET_KEY = os.environ.get(\"BINGX_SECRET_KEY\",\"\")\n",
    "\n",
    "bingx_client = BingX(API_KEY, SECRET_KEY)\n",
    "\n",
    "# Date intervals to fetch data\n",
    "date = datetime(2024,3,31,12,0,0)\n",
    "date_end = datetime(2024,4,2,12,0,0)\n",
    "start_time_ms = int(date.timestamp() * 1000)\n",
    "end_time_ms = int(date_end.timestamp() * 1000)\n",
    "\n",
    "# Get Perpetual data of <Pair> between time_intervals for each TRADE_INTERVAL\n",
    "data =[bingx_client.perpetual_v2.market.get_k_line_data(symbol=\"BTC-USDT\",interval=interval,start_time=start_time_ms,end_time=end_time_ms) for interval in TRADE_INTERVALS ]\n",
    "\n",
    "'''\n",
    "df = pd.DataFrame(data[0]) # Monthly\n",
    "df = pd.DataFrame(data[1]) # Daily\n",
    "df = pd.DataFrame(data[2]) # H4\n",
    "df = pd.DataFrame(data[3]) # H1\n",
    "df = pd.DataFrame(data[4]) # M30\n",
    "df = pd.DataFrame(data[5]) # M15\n",
    "df = pd.DataFrame(data[6]) # M5\n",
    "df = pd.DataFrame(data[7]) # M3\n",
    "df = pd.DataFrame(data[8]) # M1\n",
    "'''\n",
    "df = pd.DataFrame(data[3]) # H1\n",
    "\n",
    "# Cast data to DF types\n",
    "df['time'] = pd.to_datetime(df['time'],unit='ms')\n",
    "df = df.astype({'open':'float'})\n",
    "df = df.astype({'close':'float'})\n",
    "df = df.astype({'high':'float'})\n",
    "df = df.astype({'low':'float'})\n",
    "df = df.astype({'volume':'float'})\n",
    "\n",
    "# Chart idx must be the timestamp\n",
    "df = df.set_index('time',inplace=False)"
   ]
  },
  {
   "cell_type": "code",
   "execution_count": null,
   "metadata": {
    "pycharm": {
     "name": "#%%\n"
    }
   },
   "outputs": [],
   "source": [
    "# Calculate the mid of the candle\n",
    "df['median'] = np.abs(df['high'] + df['low']) / 2\n",
    "\n",
    "# Remove High and low as we dont need them\n",
    "#pdf = lf.drop(columns=['high','low'])\n",
    "\n",
    "# Number of points for relative extrema\n",
    "n = 5\n",
    "# Get max/min of median values using Relative Extrema\n",
    "df['min'] = df.iloc[argrelextrema(df['median'].values, np.less_equal,\n",
    "                                  order=n)[0]]['median']\n",
    "df['max'] = df.iloc[argrelextrema(df['median'].values, np.greater_equal,\n",
    "                                  order=n)[0]]['median']\n",
    "\n",
    "# Calculate EMA 10 using TA-LIB\n",
    "df['ema_10'] = ta.sma(df[\"close\"])\n",
    "\n",
    "# Drop unused columns\n",
    "lf = df.drop(columns=['volume','open','close','high','low'])\n",
    "\n",
    "# Show max/min as points green/red\n",
    "plt.scatter(lf.index,lf['min'],c='r')\n",
    "plt.scatter(lf.index,lf['max'],c='g')\n",
    "\n",
    "# Use the calculated median values\n",
    "plt.plot(lf.index,lf)\n",
    "\n",
    "# Showing chart bitches!\n",
    "plt.show()"
   ]
  }
 ],
 "metadata": {
  "kernelspec": {
   "display_name": "Python 3",
   "language": "python",
   "name": "python3"
  },
  "language_info": {
   "name": "python",
   "version": "3.10.12"
  }
 },
 "nbformat": 4,
 "nbformat_minor": 2
}