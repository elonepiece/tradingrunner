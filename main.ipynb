{
 "cells": [
  {
   "cell_type": "code",
   "execution_count": null,
   "metadata": {
    "pycharm": {
     "name": "#%%\n"
    }
   },
   "outputs": [],
   "source": [
    "!pip install -r requirements.txt"
   ]
  },
  {
   "cell_type": "code",
   "execution_count": null,
   "outputs": [],
   "source": [
    "import os\n",
    "from bingX import BingX\n",
    "import mplfinance as mpl\n",
    "import numpy as np\n",
    "import pandas as pd\n",
    "from datetime import datetime\n",
    "from scipy.signal import argrelextrema\n",
    "import matplotlib.pyplot as plt\n",
    "import pandas_ta as ta\n",
    "\n",
    "TRADE_INTERVALS = [\"1M\",\"1d\",\"4h\",\"1h\",\"30m\",\"15m\",\"5m\",\"3m\",\"1m\"]\n",
    "\n",
    "# Exchange\n",
    "API_KEY = os.environ.get(\"BINGX_API_KEY\",\"\")\n",
    "SECRET_KEY = os.environ.get(\"BINGX_SECRET_KEY\",\"\")\n",
    "bingx_client = BingX(API_KEY, SECRET_KEY)\n",
    "\n",
    "def get_data(symbol, interval, start, end):\n",
    "    start_time_ms = int(start.timestamp() * 1000)\n",
    "    end_time_ms = int(end.timestamp() * 1000)\n",
    "    data = bingx_client.perpetual_v2.market.get_k_line_data(symbol=symbol,interval=interval,start_time=start_time_ms,end_time=end_time_ms)\n",
    "    df = pd.DataFrame(data)\n",
    "    df.set_index('time', inplace=True)\n",
    "    df.index = pd.to_datetime(df.index, unit='ms')\n",
    "    df = df.astype(float)\n",
    "    return df\n",
    "\n",
    "\n",
    "def get_levels(date):\n",
    "    ratios = [-0.618, 0.618, 1.618] # SL - Entry - TP\n",
    "    series_ = df.loc[date:][1:2].squeeze()\n",
    "    diff = series_.high - series_.low\n",
    "    levels = [series_.close + i * diff for i in ratios]\n",
    "    return levels\n",
    "\n",
    "def get_median_values(lf):\n",
    "    n = 5\n",
    "    lf['median'] = np.abs(lf['high'] + lf['low']) / 2\n",
    "    lf['min'] = lf.iloc[argrelextrema(lf['median'].values, np.less_equal,\n",
    "                                      order=n)[0]]['median']\n",
    "    lf['max'] = lf.iloc[argrelextrema(lf['median'].values, np.greater_equal,\n",
    "                                      order=n)[0]]['median']\n",
    "    return lf\n",
    "\n",
    "# Date intervals to fetch data\n",
    "date = datetime(2022,1,1,0,0,0)\n",
    "date_end = datetime(2022,1,5,0,0,0)\n",
    "df = get_data(\"BTC-USDT\", \"1h\", date, date_end)\n",
    "lf = get_median_values(df)\n",
    "\n",
    "#lf = df.drop(columns=['volume','open','close'])\n",
    "#pdf = lf.drop(columns=['high','low'])\n",
    "plt.scatter(lf.index, lf['min'], c='r')\n",
    "for index, min_price in lf['min'].items():\n",
    "    plt.text(index, min_price, f\"{min_price:.2f}\", fontsize=8, ha='right', va='bottom', color='r')\n",
    "plt.scatter(lf.index, lf['max'], c='g')\n",
    "for index, max_price in lf['max'].items():\n",
    "    plt.text(index, max_price, f\"{max_price:.2f}\", fontsize=8, ha='right', va='bottom', color='g')\n",
    "plt.plot(lf.index, lf['median'])\n",
    "plt.show()"
   ],
   "metadata": {
    "collapsed": false,
    "pycharm": {
     "name": "#%%\n"
    }
   }
  },
  {
   "cell_type": "code",
   "execution_count": null,
   "outputs": [],
   "source": [
    "# Fibo back testing (WIP) - Still checking if this make sense.\n",
    "buys,sells = [],[]\n",
    "trade_dates = []\n",
    "in_position = False\n",
    "df['price'] = df.open.shift(-1)\n",
    "days_range = np.unique(df.index.date)\n",
    "for date in days_range:\n",
    "    for index, row in df[date:][2:].iterrows():\n",
    "        if not in_position:\n",
    "            sl,entry,tp = get_levels(date)\n",
    "            if row.close >= entry:\n",
    "                df.at[index, 'buy'] = row.price\n",
    "                buys.append(row.price)\n",
    "                trade_dates.append(date)\n",
    "                in_position = True\n",
    "        if in_position:\n",
    "            if row.close >= tp or row.close <= sl:\n",
    "                df.at[index, 'sell'] = row.price\n",
    "                sells.append(row.price)\n",
    "                in_position = False\n",
    "\n",
    "trades = pd.DataFrame([buys,sells])\n",
    "trades.columns = trade_dates\n",
    "trades.index = ['Buy','Sell']\n",
    "trades = trades.T\n"
   ],
   "metadata": {
    "collapsed": false,
    "pycharm": {
     "name": "#%%\n"
    }
   }
  },
  {
   "cell_type": "code",
   "execution_count": null,
   "outputs": [],
   "source": [
    "def fibonacci_levels(max_val, min_val):\n",
    "    ratios = [-0.618, 0.618, 1.618] # SL - Entry - TP\n",
    "    diff = max_val - min_val\n",
    "    levels = [max_val - i * diff for i in ratios]\n",
    "    return levels"
   ],
   "metadata": {
    "collapsed": false,
    "pycharm": {
     "name": "#%%\n"
    }
   }
  },
  {
   "cell_type": "code",
   "execution_count": null,
   "outputs": [],
   "source": [
    "filtered_df = lf[lf['min'].notnull() | lf['max'].notnull()]\n",
    "filtered_df"
   ],
   "metadata": {
    "collapsed": false,
    "pycharm": {
     "name": "#%%\n"
    }
   }
  },
  {
   "cell_type": "code",
   "execution_count": null,
   "outputs": [],
   "source": [
    "min_max_vals = []\n",
    "min_max_type = {0:[],1:[]}\n",
    "def get_min_max_data():\n",
    "    idx = 0\n",
    "    while(idx < len(filtered_df)):\n",
    "        row = filtered_df.iloc[idx]\n",
    "        if not pd.isna(row['min']):\n",
    "            min_max_vals.append(row['min'])\n",
    "            min_max_type[0].append(row['min'])\n",
    "        if not pd.isna(row['max']):\n",
    "            min_max_vals.append(row['max'])\n",
    "            min_max_type[1].append(row['max'])\n",
    "        idx = idx + 1\n",
    "\n",
    "def fibonacci_levels_v2(min_val, max_val):\n",
    "    diff = max_val - min_val\n",
    "    fib_5 = min_val + 0.5 * (diff)\n",
    "    fib_618 = min_val + 0.618 * (diff)\n",
    "    fib_786 = min_val + 0.786 * (diff)\n",
    "    return fib_5, fib_618, fib_786\n",
    "\n",
    "def possible_retracement(price, min_val, max_val):\n",
    "    fib_5, fib_618, fib_786 = fibonacci_levels_v2(min_val, max_val)\n",
    "    if fib_618 < price <= fib_786:\n",
    "        print(f\"The price {price} is within the range of 0.618 - 0.786 ({fib_618}, {fib_786})\")\n",
    "    elif fib_5 < price <= fib_786:  # It seems like 'fib_5' is undefined here. Perhaps it should be 'fib_618'?\n",
    "        print(f\"The price {price} is within the range 0.5 - 0.786 ({fib_5}, {fib_786})\")\n",
    "    else:\n",
    "        print(f\"The price {price} is outside the range ({min_val}, {max_val})\")\n",
    "\n",
    "get_min_max_data()\n",
    "print(min_max_vals)\n",
    "print(min_max_type)"
   ],
   "metadata": {
    "collapsed": false,
    "pycharm": {
     "name": "#%%\n"
    }
   }
  },
  {
   "cell_type": "code",
   "execution_count": null,
   "outputs": [],
   "source": [
    "i = 0\n",
    "min_val = 9999999999\n",
    "max_val = 0\n",
    "\n",
    "while(i != len(min_max_vals)):\n",
    "    if(min_max_vals[i] in min_max_type[0]):\n",
    "        if(min_max_vals[i] < min_val):\n",
    "            print(\"Updating value: \" + str(min_val) + \" with new min \" + str(min_max_vals[i]))\n",
    "            min_val = min_max_vals[i]\n",
    "        else:\n",
    "            if(max_val > min_val):\n",
    "                print(\"Checking possible retracement bt \" + str(min_val) + \" and \" + str(max_val))\n",
    "                possible_retracement(min_max_vals[i], min_val, max_val)\n",
    "    else:\n",
    "        if(min_max_vals[i] > max_val):\n",
    "            print(\"Updating value: \" + str(max_val) + \" with new max \" + str(min_max_vals[i]))\n",
    "            max_val = min_max_vals[i]\n",
    "    i = i + 1"
   ],
   "metadata": {
    "collapsed": false,
    "pycharm": {
     "name": "#%%\n"
    }
   }
  },
  {
   "cell_type": "code",
   "execution_count": null,
   "outputs": [],
   "source": [
    "'''\n",
    "[46461.100000000006, 47210.95, 46878.9, 47640.05, 47581.649999999994, 46968.65, 47323.15, 47657.45, 46944.85, 47362.85, 46848.35, 47379.25, 46037.75, 47174.75, 45971.149999999994]\n",
    "{0: [46461.100000000006, 46878.9, 46968.65, 46944.85, 46848.35, 46037.75, 45971.149999999994], 1: [47210.95, 47640.05, 47581.649999999994, 47323.15, 47657.45, 47362.85, 47379.25, 47174.75]}\n",
    "'''\n",
    "def possible_retracement_v2(price, min_val, max_val):\n",
    "    fib_5, fib_618, fib_786 = fibonacci_levels_v2(min_val, max_val)\n",
    "    if fib_618 < price <= fib_786:\n",
    "        #print(f\"The price {price} is within the range of 0.618 - 0.786 ({fib_618}, {fib_786})\")\n",
    "        return True\n",
    "    elif fib_5 < price <= fib_786:  # It seems like 'fib_5' is undefined here. Perhaps it should be 'fib_618'?\n",
    "        #print(f\"The price {price} is within the range 0.5 - 0.786 ({fib_5}, {fib_786})\")\n",
    "        return True\n",
    "    else:\n",
    "        #print(f\"The price {price} is outside the range ({min_val}, {max_val})\")\n",
    "        return False\n",
    "print(filtered_df)\n",
    "\n",
    "i = 0\n",
    "j = 1\n",
    "min_val = float(\"inf\")\n",
    "max_val = 0\n",
    "size = len(min_max_vals)\n",
    "trades = []\n",
    "new_min = False\n",
    "new_max = False\n",
    "while(i < size and j < size):\n",
    "    print(f\"i: {i}, j: {j}\")\n",
    "    # Min case\n",
    "    if(min_max_vals[i] in min_max_type[0]):\n",
    "        print(\"new min, setting\")\n",
    "        min_val = min_max_vals[i] # We have a min\n",
    "        new_min = True\n",
    "    else:\n",
    "        print(\"Searching min, is a max, moving to next element\")\n",
    "        i += 1 # If is max value, move to next element until we get a min\n",
    "\n",
    "    # Max case\n",
    "    if(min_max_vals[j] in min_max_type[1]):\n",
    "        print(f\"Checking if {min_max_vals[i]} is greater than {max_val}\")\n",
    "        if(min_max_vals[j] > max_val):\n",
    "            print(\"new max, setting\")\n",
    "            max_val = min_max_vals[j] # We have a max\n",
    "            new_max = True\n",
    "        else:\n",
    "            print(\"Not new max, moving and ignoring it\")\n",
    "            j += 1 # If not new max, move to next element until we get a max\n",
    "    else:\n",
    "        print(\"Searching max, is a min, moving to next element\")\n",
    "        j += 1 # If is min value, move to next element until we get a max\n",
    "\n",
    "    # Now we have max value, time to search for retracements (min > min_val and min < max_val) from [j+1,len(arr)]\n",
    "    if(new_min and new_max and min_val < max_val):\n",
    "        print(f\"New Min found {min_val} and New Max found {max_val}. Checking all possible retracements\")\n",
    "        for retracement in range(j+1, size):\n",
    "            if min_max_vals[retracement] in min_max_type[0]:\n",
    "                if min_val < min_max_vals[retracement] < max_val:\n",
    "                    #print(f\"Min {min_max_vals[retracement]} is retracement of {min_val} and {max_val}\")\n",
    "                    trades.append([min_val, min_max_vals[retracement], max_val])\n",
    "                    if(possible_retracement_v2(min_max_vals[retracement], min_val, max_val)):\n",
    "                        print(f\"Fibo found from {min_val} to {max_val} with retracement in {min_max_vals[retracement]}\")\n",
    "            elif min_max_vals[retracement] in min_max_type[1] and min_max_vals[retracement] > max_val: # When new max found, break\n",
    "                break\n",
    "        new_max = False\n",
    "        new_min = False\n",
    "        i += 1\n",
    "        j += 1"
   ],
   "metadata": {
    "collapsed": false,
    "pycharm": {
     "name": "#%%\n"
    }
   }
  }
 ],
 "metadata": {
  "kernelspec": {
   "display_name": "Python 3",
   "language": "python",
   "name": "python3"
  },
  "language_info": {
   "name": "python",
   "version": "3.10.12"
  }
 },
 "nbformat": 4,
 "nbformat_minor": 2
}