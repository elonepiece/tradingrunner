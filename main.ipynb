{
 "cells": [
  {
   "cell_type": "code",
   "execution_count": null,
   "metadata": {
    "pycharm": {
     "name": "#%%\n"
    }
   },
   "outputs": [],
   "source": [
    "!pip install -r requirements.txt"
   ]
  },
  {
   "cell_type": "code",
   "execution_count": null,
   "outputs": [],
   "source": [
    "import os\n",
    "from bingX import BingX\n",
    "import mplfinance as mpl\n",
    "import numpy as np\n",
    "import pandas as pd\n",
    "from datetime import datetime\n",
    "from scipy.signal import argrelextrema\n",
    "import matplotlib.pyplot as plt\n",
    "import pandas_ta as ta\n",
    "\n",
    "TRADE_INTERVALS = [\"1M\",\"1d\",\"4h\",\"1h\",\"30m\",\"15m\",\"5m\",\"3m\",\"1m\"]\n",
    "\n",
    "# Exchange\n",
    "API_KEY = os.environ.get(\"BINGX_API_KEY\",\"\")\n",
    "SECRET_KEY = os.environ.get(\"BINGX_SECRET_KEY\",\"\")\n",
    "bingx_client = BingX(API_KEY, SECRET_KEY)\n",
    "\n",
    "def get_data(symbol, interval, start, end):\n",
    "    start_time_ms = int(start.timestamp() * 1000)\n",
    "    end_time_ms = int(end.timestamp() * 1000)\n",
    "    data = bingx_client.perpetual_v2.market.get_k_line_data(symbol=symbol,interval=interval,start_time=start_time_ms,end_time=end_time_ms)\n",
    "    df = pd.DataFrame(data)\n",
    "    df.set_index('time', inplace=True)\n",
    "    df.index = pd.to_datetime(df.index, unit='ms')\n",
    "    df = df.astype(float)\n",
    "    return df\n",
    "\n",
    "\n",
    "def get_levels(date):\n",
    "    ratios = [-0.618, 0.618, 1.618] # SL - Entry - TP\n",
    "    series_ = df.loc[date:][1:2].squeeze()\n",
    "    diff = series_.high - series_.low\n",
    "    levels = [series_.close + i * diff for i in ratios]\n",
    "    return levels\n",
    "\n",
    "def get_median_values(lf):\n",
    "    n = 5\n",
    "    lf['median'] = np.abs(lf['high'] + lf['low']) / 2\n",
    "    lf['min'] = lf.iloc[argrelextrema(lf['median'].values, np.less_equal,\n",
    "                                      order=n)[0]]['median']\n",
    "    lf['max'] = lf.iloc[argrelextrema(lf['median'].values, np.greater_equal,\n",
    "                                      order=n)[0]]['median']\n",
    "    return lf\n",
    "\n",
    "# Date intervals to fetch data\n",
    "date = datetime(2022,1,1,0,0,0)\n",
    "date_end = datetime(2022,1,5,0,0,0)\n",
    "df = get_data(\"BTC-USDT\", \"1h\", date, date_end)\n",
    "lf = get_median_values(df)\n",
    "\n",
    "#lf = df.drop(columns=['volume','open','close'])\n",
    "#pdf = lf.drop(columns=['high','low'])\n",
    "plt.scatter(lf.index, lf['min'], c='r')\n",
    "for index, min_price in lf['min'].items():\n",
    "    plt.text(index, min_price, f\"{min_price:.2f}\", fontsize=8, ha='right', va='bottom', color='r')\n",
    "plt.scatter(lf.index, lf['max'], c='g')\n",
    "for index, max_price in lf['max'].items():\n",
    "    plt.text(index, max_price, f\"{max_price:.2f}\", fontsize=8, ha='right', va='bottom', color='g')\n",
    "plt.plot(lf.index, lf['median'])\n",
    "plt.show()"
   ],
   "metadata": {
    "collapsed": false,
    "pycharm": {
     "name": "#%%\n"
    }
   }
  },
  {
   "cell_type": "code",
   "execution_count": null,
   "outputs": [],
   "source": [
    "min_max_vals = []\n",
    "min_max_time = []\n",
    "min_max_type = {0:[],1:[]}\n",
    "filtered_df = lf[lf['min'].notnull() | lf['max'].notnull()]\n",
    "def get_min_max_data():\n",
    "    idx = 0\n",
    "    for index, row in filtered_df.iterrows():\n",
    "        if not pd.isna(row['min']):\n",
    "            min_max_vals.append(row['min'])\n",
    "            min_max_type[0].append(row['min'])\n",
    "            min_max_time.append(index.timestamp())\n",
    "        if not pd.isna(row['max']):\n",
    "            min_max_vals.append(row['max'])\n",
    "            min_max_type[1].append(row['max'])\n",
    "            min_max_time.append(index.timestamp())\n",
    "\n",
    "def fibonacci_levels_v2(min_val, max_val):\n",
    "    diff = max_val - min_val\n",
    "    fib_5 = min_val + 0.5 * (diff)\n",
    "    fib_618 = min_val + 0.618 * (diff)\n",
    "    fib_786 = min_val + 0.786 * (diff)\n",
    "    return fib_5, fib_618, fib_786\n",
    "\n",
    "def possible_retracement(price, min_val, max_val):\n",
    "    fib_5, fib_618, fib_786 = fibonacci_levels_v2(min_val, max_val)\n",
    "    if fib_618 < price <= fib_786:\n",
    "        print(f\"The price {price} is within the range of 0.618 - 0.786 ({fib_618}, {fib_786})\")\n",
    "    elif fib_5 < price <= fib_786:  # It seems like 'fib_5' is undefined here. Perhaps it should be 'fib_618'?\n",
    "        print(f\"The price {price} is within the range 0.5 - 0.786 ({fib_5}, {fib_786})\")\n",
    "    else:\n",
    "        print(f\"The price {price} is outside the range ({min_val}, {max_val})\")\n",
    "\n",
    "def possible_retracement_v2(price, min_val, max_val):\n",
    "    fib_5, fib_618, fib_786 = fibonacci_levels_v2(min_val, max_val)\n",
    "    if fib_618 < price <= fib_786:\n",
    "        #print(f\"The price {price} is within the range of 0.618 - 0.786 ({fib_618}, {fib_786})\")\n",
    "        return True\n",
    "    elif fib_5 < price <= fib_786:  # It seems like 'fib_5' is undefined here. Perhaps it should be 'fib_618'?\n",
    "        #print(f\"The price {price} is within the range 0.5 - 0.786 ({fib_5}, {fib_786})\")\n",
    "        return True\n",
    "    else:\n",
    "        #print(f\"The price {price} is outside the range ({min_val}, {max_val})\")\n",
    "        return False\n",
    "\n",
    "def get_pivot_idx():\n",
    "    i = 0\n",
    "    min_val = min_max_vals[0]\n",
    "    while(i < len(min_max_vals)):\n",
    "        if(min_max_vals[i] < min_val):\n",
    "            return i\n",
    "        i += 1\n",
    "\n",
    "get_min_max_data()\n",
    "print(f\"Min Max VALUES: {min_max_vals}\")\n",
    "print(f\"Min Max TIMES: {min_max_time}\")\n",
    "print(f\"Min Max TYPES: {min_max_type}\")"
   ],
   "metadata": {
    "collapsed": false,
    "pycharm": {
     "name": "#%%\n"
    }
   }
  },
  {
   "cell_type": "code",
   "execution_count": null,
   "outputs": [],
   "source": [
    "bullish = min_max_vals[:get_pivot_idx()]\n",
    "bullish_time = min_max_time[:get_pivot_idx()]\n",
    "\n",
    "trend = np.polyfit(bullish_time, bullish, 1)\n",
    "# plot the scatter points\n",
    "plt.plot(bullish_time, bullish, '*')\n",
    "# calculate the trendline\n",
    "trendpoly = np.poly1d(trend)\n",
    "# plot the trend line\n",
    "plt.plot(bullish_time, trendpoly(bullish_time))"
   ],
   "metadata": {
    "collapsed": false,
    "pycharm": {
     "name": "#%%\n"
    }
   }
  },
  {
   "cell_type": "code",
   "execution_count": null,
   "outputs": [],
   "source": [
    "bullish_np = np.array(bullish)\n",
    "trendpoly_values = trendpoly(bullish_time)\n",
    "mins = bullish_np[trendpoly_values > bullish_np]\n",
    "mins_with_bullish_idx = {min_val: bullish.index(min_val) for min_val in mins}\n",
    "\n",
    "print(f\"Mins array: {mins}\")\n",
    "print(f\"Mins indexes in bullish: {mins_with_bullish_idx}\")\n",
    "\n",
    "'''\n",
    "We loop over the mins to get the min val and the next one. After this we check the neighbors of this mins which are > than current_min_value\n",
    "to get the possible retracements (also doing some maintain saving the corresp. indexes in bullish array. To finish, we create a window from\n",
    "retracement to retracement in bullish using the indexes of the map :).\n",
    "'''\n",
    "i = 0\n",
    "trades = []\n",
    "while (i + 1 < len(mins)):\n",
    "    current_min_val = mins[i]\n",
    "    next_min_val = mins[i+1]\n",
    "\n",
    "    retracements_with_bullish_idx = {}\n",
    "    for x, min_val in enumerate(mins):\n",
    "        if min_val > current_min_val and min_val in mins_with_bullish_idx:\n",
    "            retracements_with_bullish_idx[min_val] = mins_with_bullish_idx[min_val] # min value (retracement) - bullish index\n",
    "\n",
    "    print(f\"Possible retracements: {retracements_with_bullish_idx}\")\n",
    "\n",
    "    keys = list(retracements_with_bullish_idx.keys())\n",
    "    for x, (key, value) in enumerate(retracements_with_bullish_idx.items()):\n",
    "        if x == 0:\n",
    "            start = 1\n",
    "        else:\n",
    "            start = retracements_with_bullish_idx[keys[x - 1]] + 1\n",
    "\n",
    "        end = value + 1\n",
    "        print(f\"Checking from {start} to {end}\")\n",
    "        # Recorre el array bullish en el rango especificado\n",
    "        max_val = 0\n",
    "        retracement = 99999999999\n",
    "        for y in range(start, end):\n",
    "            max_val = max(max_val, bullish[y])\n",
    "            retracement = min(retracement, bullish[y])\n",
    "            if(current_min_val < retracement < max_val):\n",
    "                trades.append([current_min_val, retracement, max_val])\n",
    "        print(f\"Min val: {current_min_val}\")\n",
    "        print(f\"Retracement: {retracement}\")\n",
    "        print(f\"Max val: {max_val}\")\n",
    "    i += 1"
   ],
   "metadata": {
    "collapsed": false,
    "pycharm": {
     "name": "#%%\n"
    }
   }
  }
 ],
 "metadata": {
  "kernelspec": {
   "display_name": "Python 3",
   "language": "python",
   "name": "python3"
  },
  "language_info": {
   "name": "python",
   "version": "3.10.12"
  }
 },
 "nbformat": 4,
 "nbformat_minor": 2
}