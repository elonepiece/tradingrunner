{
 "cells": [
  {
   "cell_type": "code",
   "execution_count": null,
   "metadata": {},
   "outputs": [],
   "source": [
    "!pip install -r requirements.txt"
   ]
  },
  {
   "cell_type": "code",
   "execution_count": null,
   "metadata": {},
   "outputs": [],
   "source": [
    "import os\n",
    "from bingX import BingX\n",
    "import mplfinance as mpl\n",
    "import numpy as np\n",
    "import pandas as pd\n",
    "from datetime import datetime\n",
    "from scipy.signal import argrelextrema\n",
    "import matplotlib.pyplot as plt\n",
    "\n",
    "api_key = os.environ.get(\"BINGX_API_KEY\",\"\")\n",
    "secret_key = os.environ.get(\"BINGX_SECRET_KEY\",\"\")\n",
    "\n",
    "\n",
    "bingx_client = BingX(api_key, secret_key)\n",
    "\n",
    "\n",
    "\n",
    "date = datetime(2024,3,31,12,0,0)\n",
    "date_end = datetime(2024,4,2,12,0,0)\n",
    "\n",
    "fecha = int(date.timestamp() * 1000)\n",
    "fecha_end = int(date_end.timestamp() * 1000)\n",
    "\n",
    "intervals = [\"1M\",\"1d\",\"4h\",\"1h\",\"30m\",\"15m\",\"5m\",\"3m\",\"1m\"]\n",
    "data =[bingx_client.perpetual_v2.market.get_k_line_data(symbol=\"BTC-USDT\",interval=interval,start_time=fecha,end_time=fecha_end) for interval in intervals ]\n",
    "\n",
    "df = pd.DataFrame(data[3])\n",
    "df['time'] = pd.to_datetime(df['time'],unit='ms')\n",
    "df = df.astype({'open':'float'})\n",
    "df = df.astype({'close':'float'})\n",
    "df = df.astype({'high':'float'})\n",
    "df = df.astype({'low':'float'})\n",
    "df= df.astype({'volume':'float'})\n",
    "\n",
    "df = df.set_index('time',inplace=False)"
   ]
  },
  {
   "cell_type": "code",
   "execution_count": null,
   "metadata": {},
   "outputs": [],
   "source": [
    "lf = df.drop(columns=['volume','open','close'])\n",
    "lf['median'] = np.abs(lf['high'] + lf['low']) / 2 \n",
    "pdf = lf.drop(columns=['high','low'])\n",
    "n = 5\n",
    "lf['min'] = lf.iloc[argrelextrema(lf['median'].values, np.less_equal,\n",
    "                    order=n)[0]]['median']\n",
    "lf['max'] = lf.iloc[argrelextrema(lf['median'].values, np.greater_equal,\n",
    "                    order=n)[0]]['median']\n",
    "\n",
    "plt.scatter(lf.index,lf['min'],c='r')\n",
    "plt.scatter(lf.index,lf['max'],c='g')\n",
    "plt.plot(lf.index,lf['median'])\n",
    "plt.show()"
   ]
  }
 ],
 "metadata": {
  "kernelspec": {
   "display_name": "Python 3",
   "language": "python",
   "name": "python3"
  },
  "language_info": {
   "name": "python",
   "version": "3.10.12"
  }
 },
 "nbformat": 4,
 "nbformat_minor": 2
}
